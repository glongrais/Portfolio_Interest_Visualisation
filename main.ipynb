{
 "cells": [
  {
   "cell_type": "code",
   "execution_count": 61,
   "metadata": {},
   "outputs": [],
   "source": [
    "import plotly.graph_objects as go\n",
    "import ipywidgets as widgets"
   ]
  },
  {
   "cell_type": "code",
   "execution_count": 62,
   "metadata": {},
   "outputs": [],
   "source": [
    "initial_amount_max = 100000\n",
    "monthly_contribution_max = 10000\n",
    "interest_rate_max = 0.20\n",
    "duration_max = 50"
   ]
  },
  {
   "cell_type": "code",
   "execution_count": 63,
   "metadata": {},
   "outputs": [],
   "source": [
    "def interests_computation(initial_amount=0, monthly_contribution=200, interest_rate=0.05, duration=10):\n",
    "  monthly_value = []\n",
    "  total_contribution = []\n",
    "  total_interest = []\n",
    "\n",
    "  for i in range(duration):\n",
    "    if i == 0:\n",
    "      previous_m = initial_amount\n",
    "      previous_c = initial_amount\n",
    "      previous_i = 0\n",
    "    else:\n",
    "      previous_m = monthly_value[i-1]\n",
    "      previous_c = total_contribution[i-1]\n",
    "      previous_i = total_interest[i-1]\n",
    "\n",
    "    monthly_value.append(int((previous_m+(monthly_contribution*12))*(1+interest_rate)))\n",
    "    total_contribution.append(previous_c+(monthly_contribution*12))\n",
    "    total_interest.append(previous_i + int((previous_m+(monthly_contribution*12))*interest_rate))\n",
    "\n",
    "  X = list(range(1, duration+1))\n",
    "\n",
    "  return X, monthly_value, total_contribution, total_interest\n",
    "\n",
    "X, monthly_value, total_contribution, total_interest = interests_computation()\n",
    "\n",
    "annotation = dict(\n",
    "    x= 2,\n",
    "    y= int(monthly_value[-1]*0.8),\n",
    "    text= f'Total amount: {monthly_value[-1]}€ <br>Total contribution: {total_contribution[-1]}€ <br>Total interest: {total_interest[-1]}€',  \n",
    "    showarrow= False\n",
    ")\n",
    "\n",
    "layout = go.Layout(\n",
    "        xaxis = dict(title = 'Years'),\n",
    "        yaxis = dict(title = '€'),\n",
    "        title = f'Investment performance starting with {0}€, followed by {200}€/month at {int(0.05*100)}%/year for {10} years',\n",
    "        annotations = [annotation])\n",
    "\n",
    "trace1 = go.Scatter(x=X, y=total_contribution, fill='tozeroy', name=\"Total Contribution\") # fill down to xaxis\n",
    "trace2 = go.Scatter(x=X, y=monthly_value, fill='tonexty', name=\"Interests\") # fill to trace0 y\n",
    "\n",
    "fig = go.FigureWidget(data=[trace1, trace2], layout=layout)\n",
    "\n",
    "  #print(\"Total Amount :\", monthly_value[-1], \"€\")\n",
    "  #print(\"Total Contribution :\", total_contribution[-1], \"€\")\n",
    "  #print(\"Total Interests : \", total_interest[-1], \"€\")"
   ]
  },
  {
   "cell_type": "code",
   "execution_count": 64,
   "metadata": {},
   "outputs": [
    {
     "data": {
      "application/vnd.jupyter.widget-view+json": {
       "model_id": "c580497d0d1942ed890f07338dd844eb",
       "version_major": 2,
       "version_minor": 0
      },
      "text/plain": [
       "VBox(children=(HBox(children=(IntSlider(value=0, continuous_update=False, description='Initial Amount:', max=1…"
      ]
     },
     "metadata": {},
     "output_type": "display_data"
    }
   ],
   "source": [
    "initial_amount = widgets.IntSlider(\n",
    "    value=0.0,\n",
    "    min=0.0,\n",
    "    max=initial_amount_max,\n",
    "    step=1000.0,\n",
    "    description='Initial Amount:',\n",
    "    continuous_update=False\n",
    ")\n",
    "\n",
    "monthly_contribution = widgets.IntSlider(\n",
    "    value=200.0,\n",
    "    min=0.0,\n",
    "    max=monthly_contribution_max,\n",
    "    step=100.0,\n",
    "    description='Monthly Contrib:',\n",
    "    continuous_update=False\n",
    ")\n",
    "\n",
    "interest_rate = widgets.FloatSlider(\n",
    "    value=0.05,\n",
    "    min=0.0,\n",
    "    max=interest_rate_max,\n",
    "    step=0.01,\n",
    "    description='Interest Rate:',\n",
    "    continuous_update=False\n",
    ")\n",
    "\n",
    "duration = widgets.IntSlider(\n",
    "    value=10.0,\n",
    "    min=1.0,\n",
    "    max=duration_max,\n",
    "    step=1.0,\n",
    "    description='Duration:',\n",
    "    continuous_update=False\n",
    ")\n",
    "\n",
    "def response(change):\n",
    "  X, monthly_value, total_contribution, total_interest = interests_computation(initial_amount.value, monthly_contribution.value, interest_rate.value, duration.value)\n",
    "\n",
    "  with fig.batch_update():\n",
    "    fig.data[0].x = X\n",
    "    fig.data[0].y = total_contribution\n",
    "    fig.data[1].x = X\n",
    "    fig.data[1].y = monthly_value\n",
    "    fig.layout.xaxis.title = 'Years'\n",
    "    fig.layout.yaxis.title = '€'\n",
    "    fig.layout.title = f'Investment performance starting with {initial_amount.value}€, followed by {monthly_contribution.value}€/month at {int(interest_rate.value*100)}%/year for {duration.value} years'\n",
    "    fig.layout.annotations[0].text = f'Total amount: {monthly_value[-1]}€ <br>Total contribution: {total_contribution[-1]}€ <br>Total interest: {total_interest[-1]}€'\n",
    "    fig.layout.annotations[0].y = int(monthly_value[-1]*0.8)\n",
    "\n",
    "container1 = widgets.HBox([initial_amount, duration])\n",
    "container2 = widgets.HBox([monthly_contribution, interest_rate])\n",
    "\n",
    "initial_amount.observe(response, names=\"value\")\n",
    "monthly_contribution.observe(response, names=\"value\")\n",
    "interest_rate.observe(response, names=\"value\")\n",
    "duration.observe(response, names=\"value\")\n",
    "\n",
    "widgets.VBox([container1,\n",
    "              container2,\n",
    "              fig])"
   ]
  }
 ],
 "metadata": {
  "interpreter": {
   "hash": "8acd2a4c40bb06440d03e583eeea35c6596324a3385dafe16353bbc1939be192"
  },
  "kernelspec": {
   "display_name": "Python 3.8.12 64-bit (conda)",
   "language": "python",
   "name": "python3"
  },
  "language_info": {
   "codemirror_mode": {
    "name": "ipython",
    "version": 3
   },
   "file_extension": ".py",
   "mimetype": "text/x-python",
   "name": "python",
   "nbconvert_exporter": "python",
   "pygments_lexer": "ipython3",
   "version": "3.8.12"
  },
  "orig_nbformat": 4
 },
 "nbformat": 4,
 "nbformat_minor": 2
}
